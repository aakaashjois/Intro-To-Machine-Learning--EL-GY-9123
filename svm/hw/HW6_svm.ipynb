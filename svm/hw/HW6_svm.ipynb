{
 "cells": [
  {
   "cell_type": "markdown",
   "metadata": {},
   "source": [
    "# Homework 6"
   ]
  },
  {
   "cell_type": "code",
   "execution_count": 1,
   "metadata": {},
   "outputs": [],
   "source": [
    "import numpy as np\n",
    "import matplotlib.pyplot as plt\n",
    "plt.rcParams[\"figure.figsize\"] = (16, 5)"
   ]
  },
  {
   "cell_type": "markdown",
   "metadata": {},
   "source": [
    "### Problem 1"
   ]
  },
  {
   "cell_type": "markdown",
   "metadata": {},
   "source": [
    "#### (a)"
   ]
  },
  {
   "attachments": {},
   "cell_type": "markdown",
   "metadata": {},
   "source": [
    "\n",
    "$ ŷ = -1; if, -0.5 + x_2 < 0 $\n",
    "\n",
    "$ ŷ = +1; if, -0.5 + x_2 > 0 $\n",
    "\n",
    "\n",
    "where,\n",
    "\n",
    "$ b = -0.5 $\n",
    "\n",
    "$ w_1 = 0 $\n",
    "\n",
    "$ w_2 = 1 $"
   ]
  },
  {
   "cell_type": "markdown",
   "metadata": {},
   "source": [
    "#### (b)"
   ]
  },
  {
   "cell_type": "markdown",
   "metadata": {},
   "source": [
    "$ γ = 0.2 $"
   ]
  },
  {
   "cell_type": "markdown",
   "metadata": {},
   "source": [
    "#### (c)"
   ]
  },
  {
   "attachments": {},
   "cell_type": "markdown",
   "metadata": {},
   "source": [
    "$ m = 0.2 $"
   ]
  },
  {
   "cell_type": "markdown",
   "metadata": {},
   "source": [
    "#### (d)"
   ]
  },
  {
   "cell_type": "markdown",
   "metadata": {},
   "source": [
    "The samples `i=[1, 2]` are on the margin."
   ]
  },
  {
   "cell_type": "markdown",
   "metadata": {},
   "source": [
    "### Problem 2"
   ]
  },
  {
   "cell_type": "code",
   "execution_count": 2,
   "metadata": {},
   "outputs": [],
   "source": [
    "xi = [0, 1.3, 2.1, 2.8, 4.2, 5.7]\n",
    "yi = [-1, -1, -1, 1, -1, 1]"
   ]
  },
  {
   "cell_type": "markdown",
   "metadata": {},
   "source": [
    "#### (a)"
   ]
  },
  {
   "cell_type": "code",
   "execution_count": 3,
   "metadata": {
    "inputHidden": false,
    "outputHidden": false
   },
   "outputs": [
    {
     "data": {
      "image/png": "[encoded data removed]",
      "text/plain": [
       "<matplotlib.figure.Figure at 0x11175a940>"
      ]
     },
     "metadata": {},
     "output_type": "display_data"
    }
   ],
   "source": [
    "T = np.linspace(0, 5, 100)\n",
    "J = [np.sum([max(0, tmp) for tmp in (1 - yi*(xi - t))]) for t in T]\n",
    "plt.plot(T, J)\n",
    "plt.xlabel('x')\n",
    "plt.ylabel('J(t)')\n",
    "plt.show()"
   ]
  },
  {
   "cell_type": "markdown",
   "metadata": {},
   "source": [
    "#### (b)"
   ]
  },
  {
   "cell_type": "code",
   "execution_count": 4,
   "metadata": {
    "inputHidden": false,
    "outputHidden": false
   },
   "outputs": [
    {
     "name": "stdout",
     "output_type": "stream",
     "text": [
      "J(t) is minimum for t= 3.13131313131\n"
     ]
    }
   ],
   "source": [
    "t_min = T[np.argmin(J)]\n",
    "print(\"J(t) is minimum for t=\", t_min)"
   ]
  },
  {
   "cell_type": "markdown",
   "metadata": {},
   "source": [
    "#### (c)"
   ]
  },
  {
   "cell_type": "code",
   "execution_count": 5,
   "metadata": {
    "inputHidden": false,
    "outputHidden": false
   },
   "outputs": [
    {
     "name": "stdout",
     "output_type": "stream",
     "text": [
      "The slack variables for t= 3.13131313131 are: [0, 0, 0, 1.3313131313131312, 2.0686868686868691, 0]\n"
     ]
    }
   ],
   "source": [
    "ei = [max(0, tmp) for tmp in (1 - yi*(xi - t_min))]\n",
    "print('The slack variables for t=', str(t_min), 'are:', ei)"
   ]
  },
  {
   "cell_type": "markdown",
   "metadata": {},
   "source": [
    "#### (d)"
   ]
  },
  {
   "cell_type": "markdown",
   "metadata": {},
   "source": [
    "The samples `i = [3, 4]` violate the margin and are also misclassified."
   ]
  },
  {
   "cell_type": "markdown",
   "metadata": {},
   "source": [
    "### Problem 3"
   ]
  },
  {
   "cell_type": "code",
   "execution_count": 6,
   "metadata": {},
   "outputs": [],
   "source": [
    "X = np.array([[0, 0, 0, 0], [0, 0, 1, 0], [0, 0, 1, 0], [0, 0, 1, 0]])\n",
    "Xr = np.array([[0, 0, 0, 0], [0, 0, 0, 1], [0, 0, 0, 1], [0, 0, 0, 1]])\n",
    "Xl = np.array([[0, 0, 0, 0], [0, 1, 0, 0], [0, 1, 0, 0], [0, 1, 0, 0]])\n",
    "W = np.array([[0, 0, 0, 0], [0, 1, 1, 0], [0, 1, 1, 0], [0, 0, 0, 0]])\n",
    "x = X.ravel('F')\n",
    "w = W.ravel('F')"
   ]
  },
  {
   "cell_type": "markdown",
   "metadata": {},
   "source": [
    "#### (a)"
   ]
  },
  {
   "cell_type": "code",
   "execution_count": 7,
   "metadata": {
    "inputHidden": false,
    "outputHidden": false
   },
   "outputs": [
    {
     "name": "stdout",
     "output_type": "stream",
     "text": [
      "x = [0 0 0 0 0 0 0 0 0 1 1 1 0 0 0 0]\n",
      "w = [0 0 0 0 0 1 1 0 0 1 1 0 0 0 0 0]\n"
     ]
    }
   ],
   "source": [
    "print('x =', x)\n",
    "print('w =', w)"
   ]
  },
  {
   "cell_type": "markdown",
   "metadata": {},
   "source": [
    "#### (b)"
   ]
  },
  {
   "cell_type": "code",
   "execution_count": 8,
   "metadata": {},
   "outputs": [
    {
     "name": "stdout",
     "output_type": "stream",
     "text": [
      "z = 2\n"
     ]
    }
   ],
   "source": [
    "print('z =',np.inner(w.T, x))"
   ]
  },
  {
   "cell_type": "markdown",
   "metadata": {},
   "source": [
    "#### (c)"
   ]
  },
  {
   "cell_type": "code",
   "execution_count": 9,
   "metadata": {},
   "outputs": [
    {
     "name": "stdout",
     "output_type": "stream",
     "text": [
      "z = 0\n"
     ]
    }
   ],
   "source": [
    "xr = Xr.ravel('F')\n",
    "print('z =',np.inner(w.T, xr))"
   ]
  },
  {
   "cell_type": "markdown",
   "metadata": {},
   "source": [
    "#### (d)"
   ]
  },
  {
   "cell_type": "code",
   "execution_count": 10,
   "metadata": {
    "scrolled": true
   },
   "outputs": [
    {
     "name": "stdout",
     "output_type": "stream",
     "text": [
      "z = 2\n"
     ]
    }
   ],
   "source": [
    "xl = Xl.ravel('F')\n",
    "print('z =',np.inner(w.T, xl))"
   ]
  },
  {
   "cell_type": "markdown",
   "metadata": {},
   "source": [
    "#### (e)"
   ]
  },
  {
   "cell_type": "markdown",
   "metadata": {},
   "source": [
    "The python command `x = Xmat.ravel('F')` can be used to convert a `4x4` image matrix to `16` dimensional array. The command `Xmat = x.reshape(4, 4)` can be used to go from `x` to `Xmat`."
   ]
  },
  {
   "cell_type": "markdown",
   "metadata": {},
   "source": [
    "### Problem 4"
   ]
  },
  {
   "cell_type": "code",
   "execution_count": 51,
   "metadata": {},
   "outputs": [],
   "source": [
    "xi = [0, 1, 2, 3]\n",
    "yi = [1, -1, 1, -1]\n",
    "xrange = np.linspace(-8, 8, 17)"
   ]
  },
  {
   "cell_type": "code",
   "execution_count": 52,
   "metadata": {
    "inputHidden": false,
    "outputHidden": false
   },
   "outputs": [],
   "source": [
    "def get_z(gamma, alpha, xrange):\n",
    "    z = []\n",
    "    for x in xrange:\n",
    "        zi = [alpha[i] * yi[i] * np.exp(- (gamma * np.power(xi[i] - x, 2))) for i in range(4)]\n",
    "        z.append(np.sum(zi))\n",
    "    return np.array(z)"
   ]
  },
  {
   "cell_type": "code",
   "execution_count": 53,
   "metadata": {
    "inputHidden": false,
    "outputHidden": false
   },
   "outputs": [],
   "source": [
    "def get_y(z):\n",
    "    y = np.zeros(z.shape)\n",
    "    y[np.where(z > 0)] = 1\n",
    "    y[np.where(z <= 0)] = -1\n",
    "    return y"
   ]
  },
  {
   "cell_type": "code",
   "execution_count": 54,
   "metadata": {
    "inputHidden": false,
    "outputHidden": false
   },
   "outputs": [],
   "source": [
    "def makeplot(title, z, y, xrange):\n",
    "    fig, (ax1, ax2) = plt.subplots(1, 2)\n",
    "    fig.suptitle(title)\n",
    "    ax1.plot(xrange, z)\n",
    "    ax1.set_xlabel('Range of X')\n",
    "    ax1.set_ylabel('Z')\n",
    "    ax2.scatter(xrange, y)\n",
    "    ax2.set_xlabel('Range of X')\n",
    "    ax2.set_ylabel('Predicted Y')\n",
    "    ax2.set_yticks([-1, 1])\n",
    "    ax2.grid()\n",
    "    plt.show()"
   ]
  },
  {
   "cell_type": "markdown",
   "metadata": {},
   "source": [
    "#### (a)"
   ]
  },
  {
   "cell_type": "code",
   "execution_count": 55,
   "metadata": {},
   "outputs": [
    {
     "data": {
      "image/png": "[encoded data removed]",
      "text/plain": [
       "<matplotlib.figure.Figure at 0x111c0f6d8>"
      ]
     },
     "metadata": {},
     "output_type": "display_data"
    }
   ],
   "source": [
    "a1 = [0, 0, 1, 1]\n",
    "g1 = 3\n",
    "z1 = get_z(g1, a1, xrange)\n",
    "y1 = get_y(z1)\n",
    "makeplot('Classifier 1', z1, y1, xrange)"
   ]
  },
  {
   "cell_type": "markdown",
   "metadata": {},
   "source": [
    "#### (b)"
   ]
  },
  {
   "cell_type": "code",
   "execution_count": 56,
   "metadata": {
    "inputHidden": false,
    "outputHidden": false
   },
   "outputs": [
    {
     "data": {
      "image/png": "[encoded data removed]",
      "text/plain": [
       "<matplotlib.figure.Figure at 0x111ba4eb8>"
      ]
     },
     "metadata": {},
     "output_type": "display_data"
    }
   ],
   "source": [
    "a2 = [1, 1, 1, 1]\n",
    "g2 = 0.3\n",
    "z2 = get_z(g2, a2, xrange)\n",
    "y2 = get_y(z2)\n",
    "makeplot('Classifier 2', z2, y2, xrange)"
   ]
  },
  {
   "cell_type": "markdown",
   "metadata": {},
   "source": [
    "#### (c)"
   ]
  },
  {
   "cell_type": "markdown",
   "metadata": {},
   "source": [
    "From the plots, we can see that Classifier 2 gives 2 errors while Classifier 1 gives 1 error."
   ]
  }
 ],
 "metadata": {
  "kernel_info": {
   "name": "python3"
  },
  "kernelspec": {
   "display_name": "Python 3",
   "language": "python",
   "name": "python3"
  },
  "language_info": {
   "codemirror_mode": {
    "name": "ipython",
    "version": 3
   },
   "file_extension": ".py",
   "mimetype": "text/x-python",
   "name": "python",
   "nbconvert_exporter": "python",
   "pygments_lexer": "ipython3",
   "version": "3.6.2"
  },
  "nteract": {
   "version": "0.2.0"
  }
 },
 "nbformat": 4,
 "nbformat_minor": 2
}
