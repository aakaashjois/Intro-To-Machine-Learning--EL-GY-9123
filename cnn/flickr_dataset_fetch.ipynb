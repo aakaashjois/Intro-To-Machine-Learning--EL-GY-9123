{
 "cells": [
  {
   "cell_type": "code",
   "execution_count": 1,
   "metadata": {
    "inputHidden": false,
    "outputHidden": false
   },
   "outputs": [],
   "source": [
    "import flickrapi\n",
    "import urllib.request\n",
    "import numpy as np\n",
    "import skimage.io\n",
    "import skimage.transform\n",
    "import os\n",
    "import shutil\n",
    "import warnings\n",
    "from IPython.display import clear_output"
   ]
  },
  {
   "cell_type": "code",
   "execution_count": 2,
   "metadata": {
    "inputHidden": false,
    "outputHidden": false
   },
   "outputs": [],
   "source": [
    "api_key = u'52c68de05a004c919bebf5cf337e8814'\n",
    "api_secret = u'a3a39bf39168ba7c'\n",
    "flickr = flickrapi.FlickrAPI(api_key, api_secret)"
   ]
  },
  {
   "cell_type": "code",
   "execution_count": 3,
   "metadata": {
    "inputHidden": false,
    "outputHidden": false
   },
   "outputs": [],
   "source": [
    "def resize_im(im0,nrow,ncol):\n",
    "    nrow0 = im0.shape[0]\n",
    "    ncol0 = im0.shape[1]\n",
    "    nchan = im0.shape[2]\n",
    "    if (ncol0 > nrow0):\n",
    "        pad = (ncol0-nrow0)//2\n",
    "        im = np.zeros((ncol0,ncol0,nchan),dtype=np.uint8)\n",
    "        im[pad:pad+nrow0,:,:] = im0\n",
    "    elif (nrow0 >= ncol0):\n",
    "        pad = (nrow0-ncol0)//2\n",
    "        im = np.zeros((nrow0,nrow0,nchan),dtype=np.uint8)        \n",
    "        im[:,pad:pad+ncol0,:] = im0\n",
    "    im = skimage.transform.resize(im,(nrow,ncol),mode='constant')\n",
    "    return im"
   ]
  },
  {
   "cell_type": "code",
   "execution_count": 4,
   "metadata": {
    "inputHidden": false,
    "outputHidden": false
   },
   "outputs": [],
   "source": [
    "def load_images(keywords):\n",
    "    if os.path.isdir('train'):\n",
    "        shutil.rmtree('train')\n",
    "    os.mkdir('train')\n",
    "    \n",
    "    if os.path.isdir('test'):\n",
    "        shutil.rmtree('test')\n",
    "    os.mkdir('test')\n",
    "    \n",
    "    for keyword in keywords:\n",
    "        \n",
    "        if os.path.isdir('train/' + keyword):\n",
    "            shutil.rmtree('train/' + keyword)\n",
    "        os.mkdir('train/' + keyword)\n",
    "        \n",
    "        if os.path.isdir('test/' + keyword):\n",
    "            shutil.rmtree('test/' + keyword)\n",
    "        os.mkdir('test/' + keyword)\n",
    "        \n",
    "        photos = flickr.walk(text=keyword,\n",
    "                         tag_mode='all',\n",
    "                         tags= keyword, \n",
    "                         extras='url_c', \n",
    "                         sort='relevance',\n",
    "                         per_page=2000)\n",
    "        \n",
    "        full_size_fn = 'full_size'\n",
    "        train_images = 1000\n",
    "        test_images = 300\n",
    "        nimage = 1300\n",
    "        i = 0\n",
    "        nrow = 150\n",
    "        ncol = 150\n",
    "        \n",
    "        for photo in photos:\n",
    "            url = photo.get('url_c')\n",
    "            \n",
    "            if not (url is None):\n",
    "                try:\n",
    "                    urllib.request.urlretrieve(url, full_size_fn)\n",
    "                except urllib.error.HTTPError:\n",
    "                    continue\n",
    "                    \n",
    "                im = skimage.io.imread(full_size_fn)\n",
    "                \n",
    "                if not (len(im.shape) is 3):\n",
    "                    continue\n",
    "                    \n",
    "                im1 = resize_im(im, nrow, ncol)\n",
    "                \n",
    "                with warnings.catch_warnings():\n",
    "                    warnings.simplefilter(\"ignore\")\n",
    "                    im2 = skimage.img_as_ubyte(im1)\n",
    "                    \n",
    "                folder = 'train/' if i < train_images else 'test/'\n",
    "                index = i if i < train_images else i - train_images\n",
    "                local_name = '{0:s}/{1:s}_{2:04d}.jpg'.format(folder + keyword, keyword, index)\n",
    "                skimage.io.imsave(local_name, im2) \n",
    "                clear_output()\n",
    "                print(local_name)\n",
    "                i += 1 \n",
    "                \n",
    "            if (i >= nimage):\n",
    "                os.remove(full_size_fn)\n",
    "                clear_output()\n",
    "                print('Training and testing images loaded')\n",
    "                break"
   ]
  },
  {
   "cell_type": "code",
   "execution_count": 5,
   "metadata": {
    "inputHidden": false,
    "outputHidden": false
   },
   "outputs": [
    {
     "name": "stdout",
     "output_type": "stream",
     "text": [
      "Training and testing images loaded\n"
     ]
    }
   ],
   "source": [
    "keywords = ['bicycle', 'car']\n",
    "load_images(keywords)"
   ]
  }
 ],
 "metadata": {
  "kernel_info": {
   "name": "python3"
  },
  "kernelspec": {
   "display_name": "Python 3",
   "language": "python",
   "name": "python3"
  },
  "language_info": {
   "codemirror_mode": {
    "name": "ipython",
    "version": 3
   },
   "file_extension": ".py",
   "mimetype": "text/x-python",
   "name": "python",
   "nbconvert_exporter": "python",
   "pygments_lexer": "ipython3",
   "version": "3.6.2"
  },
  "nteract": {
   "version": "0.2.0"
  }
 },
 "nbformat": 4,
 "nbformat_minor": 4
}
