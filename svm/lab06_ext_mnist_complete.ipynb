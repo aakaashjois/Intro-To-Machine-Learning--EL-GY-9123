{
  "cells": [
    {
      "cell_type": "markdown",
      "source": [
        "# Lab 6:  SVMs on an Extended  MNIST \n",
        "\n",
        "In addition to the concepts in the [MNIST demo](mnist_svm.ipynb), you will learn:\n",
        "\n",
        "* Use the `skimage` module for some basic pre-processing of images in machine learning\n",
        "* Run and test an SVM classifier on a dataset you have created\n",
        "* Perform error handling in python\n",
        "\nIn the [MNIST demo](mnist_svm.ipynb), we saw how SVMs can be used for the classic MNIST problem of digit recognition.  In this lab, we are going to extend the MNIST dataset by adding a number of non-digit letters and see if the classifier can distinguish the digits from the non-digits.  All non-digits will be lumped as a single 11-th class.  In image processing, this is called a 'detection' as opposed to 'classification' problem.  Detection is vital in OCR and related problems since the non useful characters must be rejected.  For this lab we will create a very simple version of this problem."
      ],
      "metadata": {}
    },
    {
      "cell_type": "markdown",
      "source": [
        "## Loading the MNIST data\n",
        "\nWe first import the standard modules"
      ],
      "metadata": {}
    },
    {
      "cell_type": "code",
      "source": [
        "import numpy as np\n",
        "import matplotlib.pyplot as plt\n",
        "import matplotlib.image as mpimg\n",
        "import matplotlib.patches as mpatches\n",
        "import os.path\n",
        "import pickle\n",
        "from sklearn import linear_model, preprocessing\n",
        "from sklearn.datasets import fetch_mldata\n",
        "from sklearn.metrics import confusion_matrix\n",
        "from sklearn import svm\n",
        "from sklearn.model_selection import train_test_split\n",
        "\nplt.rcParams[\"figure.figsize\"] = (16, 5)"
      ],
      "outputs": [],
      "execution_count": 1,
      "metadata": {}
    },
    {
      "cell_type": "markdown",
      "source": [
        "Next, fetch the digits with `fetch_mldata` command as shown in the demo.  Save the digits data matrix and labels to variables `Xdig` and `ydig`.  Also, recall that the pixel values in `Xdig` are between 0 and 255.  Create a scaled version of `Xdig` called `Xdigs` where the components are between -1 and 1."
      ],
      "metadata": {}
    },
    {
      "cell_type": "code",
      "source": [
        "mnist_orig = fetch_mldata(\"MNIST original\")\n",
        "Xdig = mnist_orig.data\n",
        "ydig = mnist_orig.target\n",
        "Xdigs = preprocessing.minmax_scale(Xdig, feature_range=(-1, 1))"
      ],
      "outputs": [
        {
          "output_type": "stream",
          "name": "stderr",
          "text": [
            "/Library/Frameworks/Python.framework/Versions/3.6/lib/python3.6/site-packages/sklearn/utils/validation.py:444: DataConversionWarning: Data with input dtype uint8 was converted to float64.\n",
            "  warnings.warn(msg, DataConversionWarning)\n"
          ]
        }
      ],
      "execution_count": 2,
      "metadata": {}
    },
    {
      "cell_type": "markdown",
      "source": [
        "Create a function `plt_digit` that plots the digits.  You can use the code from the demo.  Test the function by plotting four random digits.  Use the `plt.title` command to print the numeric label in `ydig` above each digit."
      ],
      "metadata": {}
    },
    {
      "cell_type": "code",
      "source": [
        "def plt_digit(x):\n",
        "    nrow = 28\n",
        "    ncol = 28\n",
        "    xsq = x.reshape((nrow, ncol))\n",
        "    plt.imshow(xsq,  cmap='Greys_r')\n",
        "    plt.xticks([])\n",
        "    plt.yticks([])\n",
        "    \n",
        "nplt = 4\n",
        "nsamp = Xdigs.shape[0]\n",
        "Iperm = np.random.permutation(nsamp)\n",
        "\n",
        "for i in range(nplt):\n",
        "    ind = Iperm[i]\n",
        "    plt.subplot(1,nplt,i+1)\n",
        "    plt_digit(Xdigs[ind,:])\n",
        "    plt.title(str(ydig[ind]))\n",
        "plt.show()"
      ],
      "outputs": [
        {
          "output_type": "display_data",
          "data": {
            "image/png": "[encoded data removed]",
            "text/plain": [
              "<matplotlib.figure.Figure at 0x11411d1d0>"
            ]
          },
          "metadata": {}
        }
      ],
      "execution_count": 3,
      "metadata": {}
    },
    {
      "cell_type": "markdown",
      "source": [
        "## Exception Handling\n",
        "\n",
        "In the routines we will develop below, we will need to handle error conditions, called exceptions. A very nice description of how to perform exception handling in python is given in\n",
        "\n",
        "https://docs.python.org/3/tutorial/errors.html\n",
        "\nAs described there, errors are described by a class that derives from a base class Exception. When the error occurs, the program raises the exception with the raise command. The calling function can catch the exception with the try ... except control flow. We will define our exception as follows which has an optional string argument."
      ],
      "metadata": {}
    },
    {
      "cell_type": "code",
      "source": [
        "class ImgException(Exception):\n",
        "    def __init__(self, msg='No msg'):\n",
        "        self.msg = msg"
      ],
      "outputs": [],
      "execution_count": 4,
      "metadata": {}
    },
    {
      "cell_type": "markdown",
      "source": [
        "Exceptions are used as follows:  First, when there is an error in some function, you `raise` the exception as follows:\n",
        "\n",
        "    foo():\n",
        "        ...\n",
        "        if (error):\n",
        "           raise ImgException(\"File not found\")\n",
        "           \n",
        "        # Code that will not execute if the error condition occured\n",
        "        \n",
        "     \n",
        "The function that calls `foo()` can catch the error using the following syntax:\n",
        "\n",
        "    try: \n",
        "        foo()\n",
        "        \n",
        "        # Continue processing in case when there was no exception\n",
        "        ....\n",
        "        \n",
        "    except ImgException as e:\n",
        "        print(\"foo() didn't work\")\n",
        "        print(\"Error msg = %s\" % e.msg)"
      ],
      "metadata": {}
    },
    {
      "cell_type": "markdown",
      "source": [
        "## Get Non-Digit Characters\n",
        "\nWe will now build a set of non-digit characters.  As a simple source, we will get hand-written lowercase letters 'a' to 'z' and process them with the `skimage` package.  The `skimage` module is a very powerful package that has a similar interface as OpenCV.  We first import the relevant modules."
      ],
      "metadata": {}
    },
    {
      "cell_type": "code",
      "source": [
        "import skimage\n",
        "import skimage.io\n",
        "from skimage.filters import threshold_otsu\n",
        "from skimage.segmentation import clear_border\n",
        "from skimage.measure import label, regionprops\n",
        "from skimage.morphology import closing, square\n",
        "from skimage.color import label2rgb\n",
        "from skimage.transform import resize\n",
        "from skimage import data"
      ],
      "outputs": [],
      "execution_count": 5,
      "metadata": {}
    },
    {
      "cell_type": "markdown",
      "source": [
        "We can get a set of character images from a very nice website\n",
        "\n",
        "http://www.ee.surrey.ac.uk/CVSSP/demos/chars74k/\n",
        "\n",
        "Go to this website, and download the file `EnglishHnd.tgz`.  After you untar this file, there are a large number of `.png` files in the directory:\n",
        "\n",
        "    EnglishHnd\\English\\Hnd\\Img\n",
        "    \n",
        "Each directory has about 55 samples of hand-written letters and numbers.  After you have downloaded this file, complete the function `load_img` to load an image from a character and sample index.\n",
        "\n",
        "Alternatively, the files are available on Google Drive:\n",
        "\n",
        "https://drive.google.com/file/d/0BxOz-SM9a1h4UksxSXBjQ0dabUk/view?usp=sharing \n",
        "\n",
        "You can download and unzip the file.\n",
        "\nThe code at the end will test the function to see if it working correctly.  For one sample, it should print the image and a second it should say the file was not found."
      ],
      "metadata": {}
    },
    {
      "cell_type": "code",
      "source": [
        "def load_img(char_ind, samp_ind):\n",
        "    \"\"\"\n",
        "    Returns the image from the dataset given a character and sample index.\n",
        "    \n",
        "        \n",
        "    If the file doesn't exist, it raises an Exception with the filename.   \n",
        "    \"\"\" \n",
        "    fname = (\"Img/Sample\" + \n",
        "             str(char_ind).zfill(3) + \n",
        "             \"/img\" + \n",
        "             str(char_ind).zfill(3) + \n",
        "             \"-\" + str(samp_ind).zfill(3) + \n",
        "             \".png\")\n",
        "    if(os.path.isfile(fname)):\n",
        "        pass\n",
        "    else:\n",
        "        raise ImgException(fname + \" not found\")\n",
        "    img = skimage.io.imread(fname)\n",
        "    return img"
      ],
      "outputs": [],
      "execution_count": 6,
      "metadata": {}
    },
    {
      "cell_type": "markdown",
      "source": [
        "Test the `load_img` function.  This should:\n",
        "* Plot the image in `Sample047\\img047-006.png`\n",
        "* Say that the `Sample047\\img047-070.png` is not found."
      ],
      "metadata": {}
    },
    {
      "cell_type": "code",
      "source": [
        "char_ind = 47\n",
        "samp_inds = [6,70]\n",
        "for samp_ind in samp_inds:\n",
        "    try:\n",
        "        img = load_img(char_ind=char_ind, samp_ind=samp_ind)\n",
        "        print(\"Char = %d samp=%d\" % (char_ind, samp_ind))\n",
        "        plt.imshow(img)\n",
        "    except ImgException as e:\n",
        "        print(e.msg)\n",
        "plt.xticks([])\n",
        "plt.yticks([])\n",
        "plt.show()"
      ],
      "outputs": [
        {
          "output_type": "stream",
          "name": "stdout",
          "text": [
            "Char = 47 samp=6\n",
            "Img/Sample047/img047-070.png not found\n"
          ]
        },
        {
          "output_type": "display_data",
          "data": {
            "image/png": "[encoded data removed]",
            "text/plain": [
              "<matplotlib.figure.Figure at 0x117814518>"
            ]
          },
          "metadata": {}
        }
      ],
      "execution_count": 7,
      "metadata": {}
    },
    {
      "cell_type": "markdown",
      "source": [
        "The images in the sample directory have very high resolution.  Complete the following method to find the image and place it in a 28 x 28 box.  You can look at this very nice demo of the `skimage` methods here:\n",
        "\n",
        "http://scikit-image.org/docs/dev/auto_examples/segmentation/plot_label.html\n",
        "\nThe code is somewhat complex, so I have provided some of the steps, esp. for the thresholding."
      ],
      "metadata": {}
    },
    {
      "cell_type": "code",
      "source": [
        "def mnist_resize(img):\n",
        "    \"\"\"\n",
        "    Extracts a character from the image, and places in a 28x28 image to match the MNIST format.\n",
        "    \n",
        "    Returns:\n",
        "    img1:  MNIST formatted 28 x 28 size image with the character from img\n",
        "    box:   A bounding box indicating the locations where the character was found in img.    \n",
        "    \"\"\"\n",
        "    nx_img = 20   \n",
        "    ny_img = 20\n",
        "    nx_box = 28   \n",
        "    ny_box = 28\n",
        "    offx = 4\n",
        "    offy = 4\n",
        "    bw = skimage.color.rgb2gray(img)\n",
        "    thresh = threshold_otsu(bw)\n",
        "    bw = closing(bw < thresh, square(3)).astype(int)\n",
        "    regions = regionprops(bw)\n",
        "    areas = [region.area for region in regions]\n",
        "    if (np.max(areas) < 100):\n",
        "        raise ImgException(\"No image found\")    \n",
        "    region_max = regions[np.argmax(areas)]\n",
        "    minr, minc, maxr, maxc = region_max.bbox\n",
        "    box = [minr,minc,maxr,maxc]\n",
        "    bw_crop = bw[minr:maxr, minc:maxc]\n",
        "    bw_resize = resize(bw_crop, (nx_img, ny_img), mode='constant')\n",
        "    bw_thres = np.zeros(bw_resize.shape)\n",
        "    bw_thres[np.where(bw_resize > np.mean(bw_resize))] = 1\n",
        "    img1 = skimage.util.pad(bw_thres, (offx, offy), mode='constant')\n",
        "    return img1, box"
      ],
      "outputs": [],
      "execution_count": 8,
      "metadata": {}
    },
    {
      "cell_type": "markdown",
      "source": [
        "Now test the `mnist_resize` program by completing the following code.  Create two subplots:\n",
        "* subplot(1,2,1):  The original image with the bounding box for the character that was found in the image.\n",
        "* subplot(1,2,2):  The MNIST resized image."
      ],
      "metadata": {
        "collapsed": true
      }
    },
    {
      "cell_type": "code",
      "source": [
        "img = load_img(13,9)\n",
        "\n",
        "try:\n",
        "    img1, box = mnist_resize(img)\n",
        "    minr, minc, maxr, maxc = box\n",
        "    fig, (ax1, ax2) = plt.subplots(1, 2)\n",
        "    ax1.imshow(img)\n",
        "    ax1.add_patch(mpatches.Rectangle(\n",
        "        (minc, minr),\n",
        "        maxc - minc,\n",
        "        maxr - minr,\n",
        "        fill=False,\n",
        "        edgecolor='red'))\n",
        "    ax1.set_axis_off()\n",
        "    ax1.set_title('Original Image')\n",
        "    ax2.imshow(img1,  cmap='Greys_r')\n",
        "    ax2.set_axis_off()\n",
        "    ax2.set_title('Modified Image')\n",
        "    plt.show()\n",
        "except ImgException as e:\n",
        "    print(e.msg)"
      ],
      "outputs": [
        {
          "output_type": "stream",
          "name": "stderr",
          "text": [
            "/Library/Frameworks/Python.framework/Versions/3.6/lib/python3.6/site-packages/skimage/util/dtype.py:122: UserWarning: Possible precision loss when converting from int64 to float64\n",
            "  .format(dtypeobj_in, dtypeobj_out))\n"
          ]
        },
        {
          "output_type": "display_data",
          "data": {
            "image/png": "[encoded data removed]",
            "text/plain": [
              "<matplotlib.figure.Figure at 0x1177a4b00>"
            ]
          },
          "metadata": {}
        }
      ],
      "execution_count": 9,
      "metadata": {}
    },
    {
      "cell_type": "markdown",
      "source": [
        "Now, run the command `nlet=1000` times to get 1000 letter images.  In each iteration, select a random image from a lowercase letter and add it to a matrix `Xlet`. "
      ],
      "metadata": {}
    },
    {
      "cell_type": "code",
      "source": [
        "nlet = 1000\n",
        "nrow = 28\n",
        "ncol = 28\n",
        "npix = nrow * ncol\n",
        "Xlet = np.zeros((nlet, npix))\n",
        "characters = list(set(np.arange(37, 63)) - set([45, 51]))\n",
        "i = 0\n",
        "while i < nlet:\n",
        "    char_ind = np.random.choice(characters)\n",
        "    samp_ind = np.random.randint(0, 50)\n",
        "        \n",
        "    try:\n",
        "        img = load_img(char_ind, samp_ind)\n",
        "        img1, box = mnist_resize(img)\n",
        "        Xlet[i,:] = img1.ravel()\n",
        "        i += 1\n",
        "        if (i % 50 == 0):\n",
        "            print ('images captured = {0:d}'.format(i))\n",
        "    except ImgException:\n",
        "        pass"
      ],
      "outputs": [
        {
          "output_type": "stream",
          "name": "stderr",
          "text": [
            "/Library/Frameworks/Python.framework/Versions/3.6/lib/python3.6/site-packages/skimage/util/dtype.py:122: UserWarning: Possible precision loss when converting from int64 to float64\n",
            "  .format(dtypeobj_in, dtypeobj_out))\n"
          ]
        },
        {
          "output_type": "stream",
          "name": "stdout",
          "text": [
            "images captured = 50\n",
            "images captured = 100\n",
            "images captured = 150\n",
            "images captured = 200\n",
            "images captured = 250\n",
            "images captured = 300\n",
            "images captured = 350\n",
            "images captured = 400\n",
            "images captured = 450\n",
            "images captured = 500\n",
            "images captured = 550\n",
            "images captured = 600\n",
            "images captured = 650\n",
            "images captured = 700\n",
            "images captured = 750\n",
            "images captured = 800\n",
            "images captured = 850\n",
            "images captured = 900\n",
            "images captured = 950\n",
            "images captured = 1000\n"
          ]
        }
      ],
      "execution_count": 10,
      "metadata": {}
    },
    {
      "cell_type": "markdown",
      "source": [
        "Since this takes a long time to generate, save the matrix `Xlet` to a file `Xlet.p` using the `pickle.dump` command."
      ],
      "metadata": {}
    },
    {
      "cell_type": "code",
      "source": [
        "pickle.dump(Xlet, open('Xlet.p', 'wb'))"
      ],
      "outputs": [],
      "execution_count": 11,
      "metadata": {}
    },
    {
      "cell_type": "markdown",
      "source": [
        "Reload the data `Xlet` from the file `Xlet.p`"
      ],
      "metadata": {}
    },
    {
      "cell_type": "code",
      "source": [
        "Xlet = pickle.load(open('Xlet.p', 'rb'))"
      ],
      "outputs": [],
      "execution_count": 12,
      "metadata": {}
    },
    {
      "cell_type": "markdown",
      "source": [
        "## Create Extended Training Data\n",
        "\n",
        "Now, create an extended data set by combining `ndig=5000` randomly selected digit samples and `nlet=1000` letters. \n",
        "* Select `ndig=5000` random samples from `Xdigs` and their labels in `ydig`.\n",
        "* Rescale the letters `Xlet` to a new matrix `Xlets = 2*Xlet-1` to make the pixel values go from -1 to 1.\n",
        "* Use the `np.vstack` command to create a 6000 element alpha-numeric data set `X`\n",
        "* Create a corresponding label vector `y` where all the non-digit characters are labeled with a non-digit label, `letter_lbl=10`.\n"
      ],
      "metadata": {}
    },
    {
      "cell_type": "code",
      "source": [
        "ndig = 5000\n",
        "nlet = 1000\n",
        "\n",
        "random_ind = np.random.choice(range(0, Xdigs.shape[0]), ndig)\n",
        "digits = Xdigs[random_ind]\n",
        "digit_labels = ydig[random_ind]\n",
        "Xlets = 2 * Xlet - 1\n",
        "letter_labels = [10] * nlet\n",
        "X = np.vstack((digits, Xlets))\n",
        "y = np.concatenate((digit_labels, letter_labels))"
      ],
      "outputs": [],
      "execution_count": 13,
      "metadata": {}
    },
    {
      "cell_type": "markdown",
      "source": [
        "# Run the SVM classifier\n",
        "\nFirst create the SVM classifer.  Use an \"rbf\" classifier with `C=2.8` and `gamma=.0073`.  Not sure if these are the best parameters, you could try to search for better ones."
      ],
      "metadata": {}
    },
    {
      "cell_type": "code",
      "source": [
        "svc = svm.SVC(kernel=\"rbf\", C=2.9, gamma=.0074)"
      ],
      "outputs": [],
      "execution_count": 14,
      "metadata": {}
    },
    {
      "cell_type": "markdown",
      "source": [
        "Get 5000 training samples `Xtr,ytr` and 1000 test samples `Xts,yts`.  Remember to randomly select them."
      ],
      "metadata": {}
    },
    {
      "cell_type": "code",
      "source": [
        "Xtr, Xts, ytr, yts = train_test_split(X, y, test_size=(1 / 6))"
      ],
      "outputs": [],
      "execution_count": 15,
      "metadata": {}
    },
    {
      "cell_type": "markdown",
      "source": [
        "Use the `svc.fit` command to fit on the training data.  This may take a few minutes"
      ],
      "metadata": {}
    },
    {
      "cell_type": "code",
      "source": [
        "svc.fit(Xtr, ytr)"
      ],
      "outputs": [
        {
          "output_type": "execute_result",
          "execution_count": 16,
          "data": {
            "text/plain": [
              "SVC(C=2.9, cache_size=200, class_weight=None, coef0=0.0,\n",
              "  decision_function_shape='ovr', degree=3, gamma=0.0074, kernel='rbf',\n",
              "  max_iter=-1, probability=False, random_state=None, shrinking=True,\n",
              "  tol=0.001, verbose=False)"
            ]
          },
          "metadata": {}
        }
      ],
      "execution_count": 16,
      "metadata": {}
    },
    {
      "cell_type": "markdown",
      "source": [
        "Measure the accuracy on the test samples.  You should get about 96% accuracy.  You can get better by using more training samples, but it will just take longer to run."
      ],
      "metadata": {}
    },
    {
      "cell_type": "code",
      "source": [
        "yhat = svc.predict(Xts)\n",
        "print('Accuracy = ', str(np.mean(yhat == yts) * 100), '%')"
      ],
      "outputs": [
        {
          "output_type": "stream",
          "name": "stdout",
          "text": [
            "Accuracy =  95.8 %\n"
          ]
        }
      ],
      "execution_count": 17,
      "metadata": {}
    },
    {
      "cell_type": "markdown",
      "source": [
        "Print the normalized confusion matrix"
      ],
      "metadata": {
        "collapsed": true
      }
    },
    {
      "cell_type": "code",
      "source": [
        "C = confusion_matrix(yts, yhat)\n",
        "Csum = np.sum(C,1)\n",
        "C = C / Csum[None, :]\n",
        "print(np.array_str(C, precision=3, suppress_small=True))\n",
        "plt.imshow(C, interpolation='none')\n",
        "plt.colorbar()\n",
        "plt.show()"
      ],
      "outputs": [
        {
          "output_type": "stream",
          "name": "stdout",
          "text": [
            "[[ 0.988  0.     0.     0.     0.     0.     0.     0.     0.015  0.     0.   ]\n",
            " [ 0.     0.95   0.024  0.     0.     0.     0.     0.011  0.015  0.     0.   ]\n",
            " [ 0.     0.     0.927  0.011  0.     0.     0.     0.011  0.029  0.     0.013]\n",
            " [ 0.     0.013  0.024  0.897  0.     0.011  0.     0.011  0.     0.011\n",
            "   0.019]\n",
            " [ 0.     0.     0.     0.     0.976  0.     0.     0.     0.     0.     0.013]\n",
            " [ 0.     0.     0.     0.034  0.     0.957  0.     0.     0.     0.     0.006]\n",
            " [ 0.     0.013  0.     0.     0.     0.011  0.978  0.     0.     0.     0.   ]\n",
            " [ 0.     0.013  0.024  0.     0.     0.     0.     0.943  0.015  0.011  0.   ]\n",
            " [ 0.     0.     0.     0.034  0.     0.     0.     0.     0.956  0.     0.   ]\n",
            " [ 0.023  0.     0.012  0.023  0.     0.011  0.     0.     0.     0.932  0.   ]\n",
            " [ 0.     0.     0.     0.     0.     0.     0.     0.     0.     0.     1.   ]]\n"
          ]
        },
        {
          "output_type": "display_data",
          "data": {
            "image/png": "[encoded data removed]",
            "text/plain": [
              "<matplotlib.figure.Figure at 0x104f55048>"
            ]
          },
          "metadata": {}
        }
      ],
      "execution_count": 18,
      "metadata": {}
    },
    {
      "cell_type": "markdown",
      "source": [
        "## Plotting some error samples\n",
        "\nWe now plot some errors.  Plot up to four images where yhat == 10 but yts != 10.  That is, the true image was a digit, but the classifier classified it as a non-digit.  Note there may be less than four such errors (when I ran it I got only three such errors).  In that case, just plot only the errors you got.  If there are no errors, print \"No such error found\""
      ],
      "metadata": {}
    },
    {
      "cell_type": "code",
      "source": [
        "Ierr = np.where(((yhat == 10) & (yts != 10)))[0]\n",
        "if Ierr.size == 0:\n",
        "    print('No such error found')\n",
        "else:\n",
        "    nplt = min(Ierr.size, 4)\n",
        "    plt.figure()\n",
        "    for i in range(nplt):        \n",
        "        plt.subplot(1,nplt,i + 1)        \n",
        "        ind = Ierr[i]    \n",
        "        plt_digit(Xts[ind,:])        \n",
        "        title = 'true={0:d} est={1:d}'.format(int(yts[ind]), int(yhat[ind]))\n",
        "        plt.title(title)\n",
        "    plt.show()"
      ],
      "outputs": [
        {
          "output_type": "display_data",
          "data": {
            "image/png": "[encoded data removed]",
            "text/plain": [
              "<matplotlib.figure.Figure at 0x11970cbe0>"
            ]
          },
          "metadata": {}
        }
      ],
      "execution_count": 19,
      "metadata": {}
    },
    {
      "cell_type": "markdown",
      "source": [
        "Now plot up to four images where yhat != 10, but yts == 10.  That is, the image was a non-digit, but the classifier thought it was an image.  I happened to get no such images.  If you find no such examples, print \"No such error found\"."
      ],
      "metadata": {}
    },
    {
      "cell_type": "code",
      "source": [
        "Ierr = np.where(((yhat != 10) & (yts == 10)))[0]\n",
        "if Ierr.size == 0:\n",
        "    print('No such error found')\n",
        "else:\n",
        "    nplt = min(Ierr.size, 4)\n",
        "    plt.figure()\n",
        "    for i in range(nplt):        \n",
        "        plt.subplot(1, nplt, i + 1)        \n",
        "        ind = Ierr[i]    \n",
        "        plt_digit(Xts[ind,:])        \n",
        "        title = 'true={0:d} est={1:d}'.format(int(yts[ind]), int(yhat[ind]))\n",
        "        plt.title(title)\n",
        "    plt.show()"
      ],
      "outputs": [
        {
          "output_type": "stream",
          "name": "stdout",
          "text": [
            "No such error found\n"
          ]
        }
      ],
      "execution_count": 20,
      "metadata": {}
    },
    {
      "cell_type": "markdown",
      "source": [
        "Finally, plot up to four images where yts != yhat and both yts < 10 and yhat < 10."
      ],
      "metadata": {}
    },
    {
      "cell_type": "code",
      "source": [
        "Ierr = np.where(((yhat < 10) & (yts < 10) & (yts != yhat)))[0]\n",
        "if Ierr.size == 0:\n",
        "    print('No such error found')\n",
        "else:\n",
        "    nplt = min(Ierr.size, 4)\n",
        "    plt.figure()\n",
        "    for i in range(nplt):        \n",
        "        plt.subplot(1, nplt, i + 1)        \n",
        "        ind = Ierr[i]    \n",
        "        plt_digit(Xts[ind,:])        \n",
        "        title = 'true={0:d} est={1:d}'.format(int(yts[ind]), int(yhat[ind]))\n",
        "        plt.title(title)\n",
        "    plt.show()"
      ],
      "outputs": [
        {
          "output_type": "display_data",
          "data": {
            "image/png": "[encoded data removed]",
            "text/plain": [
              "<matplotlib.figure.Figure at 0x117b9f780>"
            ]
          },
          "metadata": {}
        }
      ],
      "execution_count": 21,
      "metadata": {}
    }
  ],
  "metadata": {
    "anaconda-cloud": {},
    "kernel_info": {
      "name": "python3"
    },
    "kernelspec": {
      "name": "python3",
      "language": "python",
      "display_name": "Python 3"
    },
    "language_info": {
      "name": "python",
      "version": "3.6.2",
      "mimetype": "text/x-python",
      "codemirror_mode": {
        "name": "ipython",
        "version": 3
      },
      "pygments_lexer": "ipython3",
      "nbconvert_exporter": "python",
      "file_extension": ".py"
    },
    "nteract": {
      "version": "0.2.0"
    }
  },
  "nbformat": 4,
  "nbformat_minor": 1
}