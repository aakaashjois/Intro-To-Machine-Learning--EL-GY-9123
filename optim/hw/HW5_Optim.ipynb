{
 "cells": [
  {
   "cell_type": "code",
   "execution_count": 1,
   "metadata": {},
   "outputs": [],
   "source": [
    "import numpy as np"
   ]
  },
  {
   "cell_type": "code",
   "execution_count": null,
   "metadata": {},
   "outputs": [],
   "source": [
    "def feval(X, y, w):\n",
    "    A = np.column_stack((np.ones(X.shape[0],), X))\n",
    "    z = A.dot(w)\n",
    "    yhat = 1 / np.sum(z)\n",
    "    J = np.sum(np.square(y - yhat))\n",
    "    dg_dz = 2 * ((y - yhat) * np.square(yhat))\n",
    "    dJ = A.T.dot(dg_dz)\n",
    "    return J, dJ"
   ]
  },
  {
   "cell_type": "code",
   "execution_count": 127,
   "metadata": {},
   "outputs": [],
   "source": [
    "def feval_with_loop(X,P,y):\n",
    "    J = []\n",
    "    dJ = []\n",
    "    for i in range(X.shape[0]):\n",
    "        z = (np.dot(X[i], P).dot(X.T[i]))\n",
    "        J.append(z / y[i] - np.log(z))\n",
    "        dJ.append(1/y[i] - 1/z) * np.outer(X[i], X.T[i])\n",
    "    return np.sum(J), np.sum(dJ)\n",
    "\n",
    "def feval_without_loop(X,P,y):\n",
    "    z = X.dot(np.dot(P, X.T))\n",
    "    z = z.diagonal()\n",
    "    J = z / y - np.log(z)\n",
    "    J = np.sum(J)\n",
    "    dJ_vec = 1 / y - 1 / z\n",
    "    dJ = np.dot(X.T, np.dot(np.diag(dJ_vec), X))\n",
    "    return J, dJ"
   ]
  }
 ],
 "metadata": {
  "kernelspec": {
   "display_name": "Python 3",
   "language": "python",
   "name": "python3"
  },
  "language_info": {
   "codemirror_mode": {
    "name": "ipython",
    "version": 3
   },
   "file_extension": ".py",
   "mimetype": "text/x-python",
   "name": "python",
   "nbconvert_exporter": "python",
   "pygments_lexer": "ipython3",
   "version": "3.6.2"
  }
 },
 "nbformat": 4,
 "nbformat_minor": 2
}
