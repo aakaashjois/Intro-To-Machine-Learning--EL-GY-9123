{
 "cells": [
  {
   "cell_type": "code",
   "execution_count": 18,
   "metadata": {},
   "outputs": [
    {
     "data": {
      "image/png": "[encoded data removed]",
      "text/plain": [
       "<matplotlib.figure.Figure at 0x108cf1748>"
      ]
     },
     "metadata": {},
     "output_type": "display_data"
    }
   ],
   "source": [
    "import numpy as np\n",
    "import matplotlib.pyplot as plt\n",
    "b0 = np.array([1, 2, -1])\n",
    "x = np.linspace(start=0, stop=1, num=10)\n",
    "y = np.polynomial.polynomial.polyval(x, b0)\n",
    "beta = np.polynomial.polynomial.polyfit(x, y, 1)\n",
    "x_train = np.linspace(start=0, stop=3, num=30)\n",
    "y = np.polynomial.polynomial.polyval(x_train, b0)\n",
    "y_hat = np.polynomial.polynomial.polyval(x_train, beta)\n",
    "plt.plot(x_train, y, label='True function')\n",
    "plt.plot(x_train, y_hat, label='Estimated function')\n",
    "plt.legend()\n",
    "plt.xlabel('X Values')\n",
    "plt.ylabel('y Values')\n",
    "plt.grid()\n",
    "plt.savefig('HW3.png')\n",
    "plt.show()"
   ]
  },
  {
   "cell_type": "code",
   "execution_count": 9,
   "metadata": {},
   "outputs": [],
   "source": [
    "RSS = (y_hat - y) ** 2"
   ]
  },
  {
   "cell_type": "code",
   "execution_count": 10,
   "metadata": {},
   "outputs": [
    {
     "name": "stdout",
     "output_type": "stream",
     "text": [
      "[  2.19478738e-02   3.06931712e-03   2.54154393e-04   4.34053904e-03\n",
      "   8.91517848e-03   1.03133341e-02   7.61882118e-03   2.66400910e-03\n",
      "   2.98211131e-05   7.04573448e-03   3.37897804e-02   9.30885441e-02\n",
      "   2.00517165e-01   3.74399335e-01   6.35807303e-01   1.00856187e+00\n",
      "   1.51923239e+00   2.19713677e+00   3.07434148e+00   4.18566153e+00\n",
      "   5.56866049e+00   7.26365049e+00   9.31369220e+00   1.17645949e+01\n",
      "   1.46649163e+01   1.80659628e+01   2.20217892e+01   2.65891991e+01\n",
      "   3.18277444e+01   3.77997257e+01]\n"
     ]
    }
   ],
   "source": [
    "print(RSS)"
   ]
  },
  {
   "cell_type": "code",
   "execution_count": 11,
   "metadata": {},
   "outputs": [
    {
     "data": {
      "text/plain": [
       "29"
      ]
     },
     "execution_count": 11,
     "metadata": {},
     "output_type": "execute_result"
    }
   ],
   "source": [
    "np.argmax(RSS)"
   ]
  },
  {
   "cell_type": "code",
   "execution_count": 14,
   "metadata": {},
   "outputs": [
    {
     "data": {
      "text/plain": [
       "3.0"
      ]
     },
     "execution_count": 14,
     "metadata": {},
     "output_type": "execute_result"
    }
   ],
   "source": [
    "x_train[29]"
   ]
  },
  {
   "cell_type": "code",
   "execution_count": null,
   "metadata": {},
   "outputs": [],
   "source": []
  }
 ],
 "metadata": {
  "kernelspec": {
   "display_name": "Python 3",
   "language": "python",
   "name": "python3"
  },
  "language_info": {
   "codemirror_mode": {
    "name": "ipython",
    "version": 3
   },
   "file_extension": ".py",
   "mimetype": "text/x-python",
   "name": "python",
   "nbconvert_exporter": "python",
   "pygments_lexer": "ipython3",
   "version": "3.6.2"
  }
 },
 "nbformat": 4,
 "nbformat_minor": 2
}
